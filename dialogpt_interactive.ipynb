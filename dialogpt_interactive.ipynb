{
 "cells": [
  {
   "cell_type": "code",
   "execution_count": 1,
   "source": [
    "from transformers import AutoModelForCausalLM, AutoTokenizer\n",
    "import torch\n",
    "\n",
    "# model_name = \"microsoft/DialoGPT-large\"\n",
    "model_name = \"microsoft/DialoGPT-medium\"\n",
    "# model_name = \"microsoft/DialoGPT-small\"\n",
    "tokenizer = AutoTokenizer.from_pretrained(model_name)\n",
    "model = AutoModelForCausalLM.from_pretrained(model_name)"
   ],
   "outputs": [],
   "metadata": {}
  },
  {
   "cell_type": "code",
   "execution_count": 4,
   "source": [
    "user_text = input(\">> You:\")\n",
    "input_ids = tokenizer.encode(user_text + tokenizer.eos_token, return_tensors=\"pt\")\n",
    "\n",
    "chat_history_ids = model.generate(\n",
    "    input_ids,\n",
    "    max_length=1000,\n",
    "    pad_token_id=tokenizer.eos_token_id,\n",
    ")\n",
    "\n",
    "print(f\">> You:{user_text}\")\n",
    "\n",
    "output = tokenizer.decode(chat_history_ids[:, input_ids.shape[-1]:][0], skip_special_tokens=True)\n",
    "print(f\"DialoGPT: {output}\")"
   ],
   "outputs": [
    {
     "output_type": "stream",
     "name": "stdout",
     "text": [
      ">> You:What is the meaning of life?\n",
      "DialoGPT: What is love?\n"
     ]
    }
   ],
   "metadata": {}
  },
  {
   "cell_type": "code",
   "execution_count": 9,
   "source": [
    "for step in range(5):\n",
    "    user_text = input(\">> You:\")\n",
    "\n",
    "    input_ids = tokenizer.encode(user_text + tokenizer.eos_token, return_tensors=\"pt\")\n",
    "    bot_input_ids = torch.cat([chat_history_ids, input_ids], dim=-1) if step > 0 else input_ids\n",
    "    chat_history_ids = model.generate(\n",
    "        bot_input_ids,\n",
    "        max_length=1000,\n",
    "        do_sample=True, \n",
    "        top_k=50, \n",
    "        top_p=0.95, \n",
    "        pad_token_id=tokenizer.eos_token_id,\n",
    "    )\n",
    "\n",
    "    output = tokenizer.decode(chat_history_ids[:, bot_input_ids.shape[-1]:][0], skip_special_tokens=True)\n",
    "    print(f\">> You:{user_text}\")\n",
    "    print(f\"DialoGPT: {output}\")"
   ],
   "outputs": [
    {
     "output_type": "stream",
     "name": "stdout",
     "text": [
      ">> You:What is the meaning of life?\n",
      "DialoGPT: Life. Life.\n",
      ">> You:A tough question, right?\n",
      "DialoGPT: The answer is... yes.\n",
      ">> You:The meaning of life is \"yes\"?\n",
      "DialoGPT: How hard is that?\n",
      ">> You:True, that was not hard.\n",
      "DialoGPT: I tried it!\n",
      ">> You:Did you?\n",
      "DialoGPT: No, not hard enough.\n"
     ]
    }
   ],
   "metadata": {}
  }
 ],
 "metadata": {
  "orig_nbformat": 4,
  "language_info": {
   "name": "python",
   "version": "3.8.6",
   "mimetype": "text/x-python",
   "codemirror_mode": {
    "name": "ipython",
    "version": 3
   },
   "pygments_lexer": "ipython3",
   "nbconvert_exporter": "python",
   "file_extension": ".py"
  },
  "kernelspec": {
   "name": "python3",
   "display_name": "Python 3.8.6 64-bit ('3.8.6')"
  },
  "interpreter": {
   "hash": "73dd98c30cc0f151d35df4175cb0d9ba653549e657e1b10ddd5165797a0ff531"
  }
 },
 "nbformat": 4,
 "nbformat_minor": 2
}